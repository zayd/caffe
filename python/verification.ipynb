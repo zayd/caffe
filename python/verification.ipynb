{
 "metadata": {
  "name": "",
  "signature": "sha256:105f98bd504d363aa106a9889bd7042ceacdab940c1d24a838a6a20b4f935774"
 },
 "nbformat": 3,
 "nbformat_minor": 0,
 "worksheets": [
  {
   "cells": [
    {
     "cell_type": "code",
     "collapsed": false,
     "input": [
      "import numpy as np\n",
      "import matplotlib.pyplot as plt\n",
      "import matplotlib.animation as animation\n",
      "import os\n",
      "import re\n",
      "import time\n",
      "import images2gif\n",
      "import math\n",
      "import skimage.transform as skt\n",
      "from sklearn import linear_model\n",
      "from sklearn.decomposition import PCA\n",
      "\n",
      "%matplotlib inline\n",
      "\n",
      "caffe_root = '../'\n",
      "net_root = caffe_root + 'examples/cfw/'\n",
      "data_root = caffe_root + 'data/lfw/'\n",
      "subdirectory = '4layers_v4/'\n",
      "\n",
      "DEPLOY_FILE = 'cfw_deploy.prototxt'\n",
      "MEAN_FILE = 'mean.binaryproto'\n",
      "TRAIN_FILE = 'lfw_trn_1_big_clean.txt'\n",
      "TEST_FILE = 'lfw_tst_1_clean.txt'\n",
      "\n",
      "import sys\n",
      "sys.path.insert(0, caffe_root + 'python')\n",
      "sys.path.insert(0, net_root)\n",
      "\n",
      "import caffe\n",
      "\n",
      "plt.rcParams['figure.figsize'] = (10, 10)\n",
      "plt.rcParams['image.interpolation'] = 'nearest'"
     ],
     "language": "python",
     "metadata": {},
     "outputs": [],
     "prompt_number": 1
    },
    {
     "cell_type": "heading",
     "level": 2,
     "metadata": {},
     "source": [
      "Helper Functions"
     ]
    },
    {
     "cell_type": "code",
     "collapsed": false,
     "input": [
      "# Human Sorting\n",
      "def tryint(s):\n",
      "    try:\n",
      "        return int(s)\n",
      "    except:\n",
      "        return s\n",
      "     \n",
      "def alphanum_key(s):\n",
      "    \"\"\" Turn a string into a list of string and number chunks.\n",
      "        \"z23a\" -> [\"z\", 23, \"a\"]\n",
      "    \"\"\"\n",
      "    return [ tryint(c) for c in re.split('([0-9]+)', s) ]\n",
      "\n",
      "def sort_nicely(l):\n",
      "    \"\"\" Sort the given list in the way that humans expect.\n",
      "    \"\"\"\n",
      "    l.sort(key=alphanum_key)\n",
      "    \n",
      "# our network takes BGR images, so we need to switch color channels\n",
      "def switch_color(im):\n",
      "    if im.ndim == 3:\n",
      "        im = im[:, :, ::-1]\n",
      "    \n",
      "    return im \n",
      "\n",
      "def vis_square(data, padsize=1, padval=0):\n",
      "    data -= data.min()\n",
      "    data /= data.max()\n",
      "    \n",
      "    # force the number of filters to be square\n",
      "    n = int(np.ceil(np.sqrt(data.shape[0])))\n",
      "    padding = ((0, n ** 2 - data.shape[0]), (0, padsize), (0, padsize)) + ((0, 0),) * (data.ndim - 3)\n",
      "    data = np.pad(data, padding, mode='constant', constant_values=(padval, padval))\n",
      "    \n",
      "    # tile the filters into an image\n",
      "    data = data.reshape((n, n) + data.shape[1:]).transpose((0, 2, 1, 3) + tuple(range(4, data.ndim + 1)))\n",
      "    data = data.reshape((n * data.shape[1], n * data.shape[3]) + data.shape[4:])\n",
      "    return data"
     ],
     "language": "python",
     "metadata": {},
     "outputs": [],
     "prompt_number": 2
    },
    {
     "cell_type": "heading",
     "level": 2,
     "metadata": {},
     "source": [
      "Load Mean File"
     ]
    },
    {
     "cell_type": "code",
     "collapsed": false,
     "input": [
      "from caffe.proto import caffe_pb2\n",
      "blob = caffe_pb2.BlobProto()\n",
      "mean_file = open('../data/cfw/' + MEAN_FILE, \"rb\").read()\n",
      "blob.ParseFromString(mean_file)\n",
      "#print blob\n",
      "mean = np.array(caffe.io.blobproto_to_array(blob))\n",
      "mean = mean[0]\n",
      "print \"Mean shape: \" + str(mean.shape)\n",
      "np.save(data_root + 'mean.npy', mean)"
     ],
     "language": "python",
     "metadata": {},
     "outputs": [
      {
       "output_type": "stream",
       "stream": "stdout",
       "text": [
        "Mean shape: (3, 250, 200)\n"
       ]
      }
     ],
     "prompt_number": 3
    },
    {
     "cell_type": "heading",
     "level": 2,
     "metadata": {},
     "source": [
      "Load Last Snapshot"
     ]
    },
    {
     "cell_type": "code",
     "collapsed": false,
     "input": [
      "filenames = os.listdir(net_root + subdirectory)\n",
      "filenames = filter(lambda f: not re.search(r'\\d+$', f) == None, filenames)\n",
      "sort_nicely(filenames)\n",
      "f = filenames[-1]\n",
      "\n",
      "net = caffe.Classifier(net_root + DEPLOY_FILE, net_root + subdirectory + f, channel_swap=(2, 1, 0),\n",
      "                       mean_file=data_root + 'mean.npy', input_scale=0.00390625)\n",
      "\n",
      "net.set_phase_test()\n",
      "net.set_mode_gpu()\n",
      "\n",
      "print \"Loading net: \" + net_root + DEPLOY_FILE\n",
      "print \"Snapshot: \" + subdirectory + f"
     ],
     "language": "python",
     "metadata": {},
     "outputs": [
      {
       "output_type": "stream",
       "stream": "stdout",
       "text": [
        "Loading net: ../examples/cfw/cfw_deploy.prototxt\n",
        "Snapshot: 4layers_v4/cfw_iter_73000\n"
       ]
      }
     ],
     "prompt_number": 4
    },
    {
     "cell_type": "heading",
     "level": 2,
     "metadata": {},
     "source": [
      "Load LFW Dataset"
     ]
    },
    {
     "cell_type": "code",
     "collapsed": false,
     "input": [
      "NUM_IMAGES = 25479 # NUM_IMAGES in TRAIN set\n",
      "data = {}\n",
      "train_list = []\n",
      "\n",
      "with open(data_root + TRAIN_FILE) as train_file:\n",
      "    for head in random.choice(list(train_file), NUM_IMAGES):  # random\n",
      "    #for i in range(NUM_IMAGES):\n",
      "        # head = next(train_file)\n",
      "        if len(head.split('\\t')) == 4:\n",
      "            name1, image1, name2, image2 = head.replace('\\n', '').split('\\t')\n",
      "            image1 = image1.zfill(4)\n",
      "            image2 = image2.zfill(4)\n",
      "            train_list.append(((name1, image1, name2, image2), 0))\n",
      "            data[name1 + '_' + image1] = caffe.io.load_image(data_root + 'lfw/' + name1 \n",
      "                                                             + '/' + name1 + '_' +\n",
      "                                                             image1 + '.jpg')\n",
      "            data[name2 + '_' + image2] = caffe.io.load_image(data_root + 'lfw/' + name2 \n",
      "                                                             + '/' + name2 + '_' +\n",
      "                                                             image2 + '.jpg')\n",
      "            \n",
      "        if len(head.split('\\t')) == 3:\n",
      "            name1, image1, image2 = head.replace('\\n', '').split('\\t')\n",
      "            train_list.append(((name1, image1, name1, image2), 1))\n",
      "            image1 = image1.zfill(4)\n",
      "            image2 = image2.zfill(4)\n",
      "            data[name1 + '_' + image1] = caffe.io.load_image(data_root + 'lfw/' + name1 \n",
      "                                                             + '/' + name1 + '_' +\n",
      "                                                             image1 + '.jpg')\n",
      "            data[name1 + '_' + image2] = caffe.io.load_image(data_root + 'lfw/' + name1 \n",
      "                                                             + '/' + name1 + '_' +\n",
      "                                                             image2 + '.jpg')"
     ],
     "language": "python",
     "metadata": {},
     "outputs": [],
     "prompt_number": 5
    },
    {
     "cell_type": "heading",
     "level": 3,
     "metadata": {},
     "source": [
      "Resize LFW Images"
     ]
    },
    {
     "cell_type": "code",
     "collapsed": false,
     "input": [
      "#IMAGE_DIM = (250, 200)\n",
      "#for key in data:\n",
      "#    data[key] = skt.resize(data[key].astype(uint8), IMAGE_DIM).astype(np.float32)\n",
      "\n",
      "#name1 = 'George_Papandreou'\n",
      "#image1 = '0002'\n",
      "#a = imread(data_root + 'lfw/' + name1 + '/' + name1 + '_' + image1 + '.jpg')\n",
      "\n",
      "#b = imread(data_root + 'lfw_orig/')\n",
      "#print a\n",
      "#print b\n",
      "#imshow(data['George_Papandreou_0002'].astype(uint8))\n",
      "#print data['George_Papandreou_0002']"
     ],
     "language": "python",
     "metadata": {},
     "outputs": [],
     "prompt_number": 270
    },
    {
     "cell_type": "heading",
     "level": 2,
     "metadata": {},
     "source": [
      "Extract Features"
     ]
    },
    {
     "cell_type": "code",
     "collapsed": false,
     "input": [
      "def chunker(seq, size):\n",
      "    return (seq[pos:pos + size] for pos in xrange(0, len(seq), size))\n",
      "\n",
      "data_keys = data.keys()\n",
      "data_values = data.values()\n",
      "\n",
      "# Compute features in chunks of 64 and save features\n",
      "BATCH_SIZE = 64\n",
      "data_features = []\n",
      "\n",
      "for batch_values in chunker(data_values, BATCH_SIZE):\n",
      "    print \"Computing on batch of size: \", len(batch_values)\n",
      "    prediction = net.predict(batch_values, oversample=False)\n",
      "    data_features.append(net.blobs['ip1'].data[:len(batch_values)].copy())"
     ],
     "language": "python",
     "metadata": {},
     "outputs": [
      {
       "output_type": "stream",
       "stream": "stdout",
       "text": [
        "Computing on batch of size:  64\n",
        "Computing on batch of size: "
       ]
      },
      {
       "output_type": "stream",
       "stream": "stdout",
       "text": [
        " 64\n",
        "Computing on batch of size: "
       ]
      },
      {
       "output_type": "stream",
       "stream": "stdout",
       "text": [
        " 64\n",
        "Computing on batch of size: "
       ]
      },
      {
       "output_type": "stream",
       "stream": "stdout",
       "text": [
        " 64\n",
        "Computing on batch of size: "
       ]
      },
      {
       "output_type": "stream",
       "stream": "stdout",
       "text": [
        " 64\n",
        "Computing on batch of size: "
       ]
      },
      {
       "output_type": "stream",
       "stream": "stdout",
       "text": [
        " 64\n",
        "Computing on batch of size: "
       ]
      },
      {
       "output_type": "stream",
       "stream": "stdout",
       "text": [
        " 64\n",
        "Computing on batch of size: "
       ]
      },
      {
       "output_type": "stream",
       "stream": "stdout",
       "text": [
        " 64\n",
        "Computing on batch of size: "
       ]
      },
      {
       "output_type": "stream",
       "stream": "stdout",
       "text": [
        " 64\n",
        "Computing on batch of size: "
       ]
      },
      {
       "output_type": "stream",
       "stream": "stdout",
       "text": [
        " 64\n",
        "Computing on batch of size: "
       ]
      },
      {
       "output_type": "stream",
       "stream": "stdout",
       "text": [
        " 64\n",
        "Computing on batch of size: "
       ]
      },
      {
       "output_type": "stream",
       "stream": "stdout",
       "text": [
        " 64\n",
        "Computing on batch of size: "
       ]
      },
      {
       "output_type": "stream",
       "stream": "stdout",
       "text": [
        " 64\n",
        "Computing on batch of size: "
       ]
      },
      {
       "output_type": "stream",
       "stream": "stdout",
       "text": [
        " 64\n",
        "Computing on batch of size: "
       ]
      },
      {
       "output_type": "stream",
       "stream": "stdout",
       "text": [
        " 64\n",
        "Computing on batch of size: "
       ]
      },
      {
       "output_type": "stream",
       "stream": "stdout",
       "text": [
        " 64\n",
        "Computing on batch of size: "
       ]
      },
      {
       "output_type": "stream",
       "stream": "stdout",
       "text": [
        " 64\n",
        "Computing on batch of size: "
       ]
      },
      {
       "output_type": "stream",
       "stream": "stdout",
       "text": [
        " 64\n",
        "Computing on batch of size: "
       ]
      },
      {
       "output_type": "stream",
       "stream": "stdout",
       "text": [
        " 64\n",
        "Computing on batch of size: "
       ]
      },
      {
       "output_type": "stream",
       "stream": "stdout",
       "text": [
        " 64\n",
        "Computing on batch of size: "
       ]
      },
      {
       "output_type": "stream",
       "stream": "stdout",
       "text": [
        " 64\n",
        "Computing on batch of size: "
       ]
      },
      {
       "output_type": "stream",
       "stream": "stdout",
       "text": [
        " 64\n",
        "Computing on batch of size: "
       ]
      },
      {
       "output_type": "stream",
       "stream": "stdout",
       "text": [
        " 64\n",
        "Computing on batch of size: "
       ]
      },
      {
       "output_type": "stream",
       "stream": "stdout",
       "text": [
        " 64\n",
        "Computing on batch of size: "
       ]
      },
      {
       "output_type": "stream",
       "stream": "stdout",
       "text": [
        " 64\n",
        "Computing on batch of size: "
       ]
      },
      {
       "output_type": "stream",
       "stream": "stdout",
       "text": [
        " 64\n",
        "Computing on batch of size: "
       ]
      },
      {
       "output_type": "stream",
       "stream": "stdout",
       "text": [
        " 64\n",
        "Computing on batch of size: "
       ]
      },
      {
       "output_type": "stream",
       "stream": "stdout",
       "text": [
        " 64\n",
        "Computing on batch of size: "
       ]
      },
      {
       "output_type": "stream",
       "stream": "stdout",
       "text": [
        " 64\n",
        "Computing on batch of size: "
       ]
      },
      {
       "output_type": "stream",
       "stream": "stdout",
       "text": [
        " 64\n",
        "Computing on batch of size: "
       ]
      },
      {
       "output_type": "stream",
       "stream": "stdout",
       "text": [
        " 64\n",
        "Computing on batch of size: "
       ]
      },
      {
       "output_type": "stream",
       "stream": "stdout",
       "text": [
        " 64\n",
        "Computing on batch of size: "
       ]
      },
      {
       "output_type": "stream",
       "stream": "stdout",
       "text": [
        " 64\n",
        "Computing on batch of size: "
       ]
      },
      {
       "output_type": "stream",
       "stream": "stdout",
       "text": [
        " 64\n",
        "Computing on batch of size: "
       ]
      },
      {
       "output_type": "stream",
       "stream": "stdout",
       "text": [
        " 64\n",
        "Computing on batch of size: "
       ]
      },
      {
       "output_type": "stream",
       "stream": "stdout",
       "text": [
        " 64\n",
        "Computing on batch of size: "
       ]
      },
      {
       "output_type": "stream",
       "stream": "stdout",
       "text": [
        " 64\n",
        "Computing on batch of size: "
       ]
      },
      {
       "output_type": "stream",
       "stream": "stdout",
       "text": [
        " 64\n",
        "Computing on batch of size: "
       ]
      },
      {
       "output_type": "stream",
       "stream": "stdout",
       "text": [
        " 64\n",
        "Computing on batch of size: "
       ]
      },
      {
       "output_type": "stream",
       "stream": "stdout",
       "text": [
        " 64\n",
        "Computing on batch of size: "
       ]
      },
      {
       "output_type": "stream",
       "stream": "stdout",
       "text": [
        " 64\n",
        "Computing on batch of size: "
       ]
      },
      {
       "output_type": "stream",
       "stream": "stdout",
       "text": [
        " 64\n",
        "Computing on batch of size: "
       ]
      },
      {
       "output_type": "stream",
       "stream": "stdout",
       "text": [
        " 64\n",
        "Computing on batch of size: "
       ]
      },
      {
       "output_type": "stream",
       "stream": "stdout",
       "text": [
        " 64\n",
        "Computing on batch of size: "
       ]
      },
      {
       "output_type": "stream",
       "stream": "stdout",
       "text": [
        " 64\n",
        "Computing on batch of size: "
       ]
      },
      {
       "output_type": "stream",
       "stream": "stdout",
       "text": [
        " 64\n",
        "Computing on batch of size: "
       ]
      },
      {
       "output_type": "stream",
       "stream": "stdout",
       "text": [
        " 64\n",
        "Computing on batch of size: "
       ]
      },
      {
       "output_type": "stream",
       "stream": "stdout",
       "text": [
        " 64\n",
        "Computing on batch of size: "
       ]
      },
      {
       "output_type": "stream",
       "stream": "stdout",
       "text": [
        " 64\n",
        "Computing on batch of size: "
       ]
      },
      {
       "output_type": "stream",
       "stream": "stdout",
       "text": [
        " 64\n",
        "Computing on batch of size: "
       ]
      },
      {
       "output_type": "stream",
       "stream": "stdout",
       "text": [
        " 64\n",
        "Computing on batch of size: "
       ]
      },
      {
       "output_type": "stream",
       "stream": "stdout",
       "text": [
        " 64\n",
        "Computing on batch of size: "
       ]
      },
      {
       "output_type": "stream",
       "stream": "stdout",
       "text": [
        " 64\n",
        "Computing on batch of size: "
       ]
      },
      {
       "output_type": "stream",
       "stream": "stdout",
       "text": [
        " 64\n",
        "Computing on batch of size: "
       ]
      },
      {
       "output_type": "stream",
       "stream": "stdout",
       "text": [
        " 64\n",
        "Computing on batch of size: "
       ]
      },
      {
       "output_type": "stream",
       "stream": "stdout",
       "text": [
        " 64\n",
        "Computing on batch of size: "
       ]
      },
      {
       "output_type": "stream",
       "stream": "stdout",
       "text": [
        " 64\n",
        "Computing on batch of size: "
       ]
      },
      {
       "output_type": "stream",
       "stream": "stdout",
       "text": [
        " 64\n",
        "Computing on batch of size: "
       ]
      },
      {
       "output_type": "stream",
       "stream": "stdout",
       "text": [
        " 64\n",
        "Computing on batch of size: "
       ]
      },
      {
       "output_type": "stream",
       "stream": "stdout",
       "text": [
        " 64\n",
        "Computing on batch of size: "
       ]
      },
      {
       "output_type": "stream",
       "stream": "stdout",
       "text": [
        " 64\n",
        "Computing on batch of size: "
       ]
      },
      {
       "output_type": "stream",
       "stream": "stdout",
       "text": [
        " 64\n",
        "Computing on batch of size: "
       ]
      },
      {
       "output_type": "stream",
       "stream": "stdout",
       "text": [
        " 64\n",
        "Computing on batch of size: "
       ]
      },
      {
       "output_type": "stream",
       "stream": "stdout",
       "text": [
        " 64\n",
        "Computing on batch of size: "
       ]
      },
      {
       "output_type": "stream",
       "stream": "stdout",
       "text": [
        " 64\n",
        "Computing on batch of size: "
       ]
      },
      {
       "output_type": "stream",
       "stream": "stdout",
       "text": [
        " 64\n",
        "Computing on batch of size: "
       ]
      },
      {
       "output_type": "stream",
       "stream": "stdout",
       "text": [
        " 64\n",
        "Computing on batch of size: "
       ]
      },
      {
       "output_type": "stream",
       "stream": "stdout",
       "text": [
        " 64\n",
        "Computing on batch of size: "
       ]
      },
      {
       "output_type": "stream",
       "stream": "stdout",
       "text": [
        " 64\n",
        "Computing on batch of size: "
       ]
      },
      {
       "output_type": "stream",
       "stream": "stdout",
       "text": [
        " 64\n",
        "Computing on batch of size: "
       ]
      },
      {
       "output_type": "stream",
       "stream": "stdout",
       "text": [
        " 64\n",
        "Computing on batch of size: "
       ]
      },
      {
       "output_type": "stream",
       "stream": "stdout",
       "text": [
        " 64\n",
        "Computing on batch of size: "
       ]
      },
      {
       "output_type": "stream",
       "stream": "stdout",
       "text": [
        " 64\n",
        "Computing on batch of size: "
       ]
      },
      {
       "output_type": "stream",
       "stream": "stdout",
       "text": [
        " 64\n",
        "Computing on batch of size: "
       ]
      },
      {
       "output_type": "stream",
       "stream": "stdout",
       "text": [
        " 64\n",
        "Computing on batch of size: "
       ]
      },
      {
       "output_type": "stream",
       "stream": "stdout",
       "text": [
        " 64\n",
        "Computing on batch of size: "
       ]
      },
      {
       "output_type": "stream",
       "stream": "stdout",
       "text": [
        " 64\n",
        "Computing on batch of size: "
       ]
      },
      {
       "output_type": "stream",
       "stream": "stdout",
       "text": [
        " 64\n",
        "Computing on batch of size: "
       ]
      },
      {
       "output_type": "stream",
       "stream": "stdout",
       "text": [
        " 64\n",
        "Computing on batch of size: "
       ]
      },
      {
       "output_type": "stream",
       "stream": "stdout",
       "text": [
        " 64\n",
        "Computing on batch of size: "
       ]
      },
      {
       "output_type": "stream",
       "stream": "stdout",
       "text": [
        " 64\n",
        "Computing on batch of size: "
       ]
      },
      {
       "output_type": "stream",
       "stream": "stdout",
       "text": [
        " 64\n",
        "Computing on batch of size: "
       ]
      },
      {
       "output_type": "stream",
       "stream": "stdout",
       "text": [
        " 64\n",
        "Computing on batch of size: "
       ]
      },
      {
       "output_type": "stream",
       "stream": "stdout",
       "text": [
        " 64\n",
        "Computing on batch of size: "
       ]
      },
      {
       "output_type": "stream",
       "stream": "stdout",
       "text": [
        " 64\n",
        "Computing on batch of size: "
       ]
      },
      {
       "output_type": "stream",
       "stream": "stdout",
       "text": [
        " 64\n",
        "Computing on batch of size: "
       ]
      },
      {
       "output_type": "stream",
       "stream": "stdout",
       "text": [
        " 64\n",
        "Computing on batch of size: "
       ]
      },
      {
       "output_type": "stream",
       "stream": "stdout",
       "text": [
        " 64\n",
        "Computing on batch of size: "
       ]
      },
      {
       "output_type": "stream",
       "stream": "stdout",
       "text": [
        " 64\n",
        "Computing on batch of size: "
       ]
      },
      {
       "output_type": "stream",
       "stream": "stdout",
       "text": [
        " 64\n",
        "Computing on batch of size: "
       ]
      },
      {
       "output_type": "stream",
       "stream": "stdout",
       "text": [
        " 64\n",
        "Computing on batch of size: "
       ]
      },
      {
       "output_type": "stream",
       "stream": "stdout",
       "text": [
        " 64\n",
        "Computing on batch of size: "
       ]
      },
      {
       "output_type": "stream",
       "stream": "stdout",
       "text": [
        " 64\n",
        "Computing on batch of size: "
       ]
      },
      {
       "output_type": "stream",
       "stream": "stdout",
       "text": [
        " 64\n",
        "Computing on batch of size: "
       ]
      },
      {
       "output_type": "stream",
       "stream": "stdout",
       "text": [
        " 64\n",
        "Computing on batch of size: "
       ]
      },
      {
       "output_type": "stream",
       "stream": "stdout",
       "text": [
        " 64\n",
        "Computing on batch of size: "
       ]
      },
      {
       "output_type": "stream",
       "stream": "stdout",
       "text": [
        " 64\n",
        "Computing on batch of size: "
       ]
      },
      {
       "output_type": "stream",
       "stream": "stdout",
       "text": [
        " 64\n",
        "Computing on batch of size: "
       ]
      },
      {
       "output_type": "stream",
       "stream": "stdout",
       "text": [
        " 64\n",
        "Computing on batch of size: "
       ]
      },
      {
       "output_type": "stream",
       "stream": "stdout",
       "text": [
        " 64\n",
        "Computing on batch of size: "
       ]
      },
      {
       "output_type": "stream",
       "stream": "stdout",
       "text": [
        " 64\n",
        "Computing on batch of size: "
       ]
      },
      {
       "output_type": "stream",
       "stream": "stdout",
       "text": [
        " 64\n",
        "Computing on batch of size: "
       ]
      },
      {
       "output_type": "stream",
       "stream": "stdout",
       "text": [
        " 64\n",
        "Computing on batch of size: "
       ]
      },
      {
       "output_type": "stream",
       "stream": "stdout",
       "text": [
        " 64\n",
        "Computing on batch of size: "
       ]
      },
      {
       "output_type": "stream",
       "stream": "stdout",
       "text": [
        " 64\n",
        "Computing on batch of size: "
       ]
      },
      {
       "output_type": "stream",
       "stream": "stdout",
       "text": [
        " 21\n"
       ]
      }
     ],
     "prompt_number": 6
    },
    {
     "cell_type": "code",
     "collapsed": false,
     "input": [
      "data_features = np.vstack(data_features).squeeze()\n",
      "print data_features.shape"
     ],
     "language": "python",
     "metadata": {},
     "outputs": [
      {
       "output_type": "stream",
       "stream": "stdout",
       "text": [
        "(6741, 1024)\n"
       ]
      }
     ],
     "prompt_number": 7
    },
    {
     "cell_type": "code",
     "collapsed": false,
     "input": [],
     "language": "python",
     "metadata": {},
     "outputs": [
      {
       "output_type": "stream",
       "stream": "stdout",
       "text": [
        "[[ 0.00057196  0.00057196  0.00057196 ...,  0.00057196  0.00057196\n",
        "   0.00057196]]\n"
       ]
      }
     ],
     "prompt_number": 39
    },
    {
     "cell_type": "heading",
     "level": 3,
     "metadata": {},
     "source": [
      "Perform PCA on features"
     ]
    },
    {
     "cell_type": "code",
     "collapsed": false,
     "input": [
      "pca = PCA(n_components=320)\n",
      "data_features_pca = pca.fit_transform(data_features)\n",
      "print(pca.explained_variance_ratio_)"
     ],
     "language": "python",
     "metadata": {},
     "outputs": [
      {
       "output_type": "stream",
       "stream": "stdout",
       "text": [
        "[ 0.03787966  0.02948993  0.02292774  0.02260881  0.01858463  0.01571534\n",
        "  0.01480308  0.01366674  0.01296511  0.01200376  0.01099364  0.01061487\n",
        "  0.00924234  0.00918649  0.00871956  0.00853063  0.00822087  0.00797461\n",
        "  0.00757514  0.00720074  0.00715364  0.00687537  0.00672666  0.00672223\n",
        "  0.00642821  0.00619854  0.00588718  0.00580779  0.0055674   0.0054202\n",
        "  0.00529982  0.00508764  0.0049788   0.00484434  0.00467267  0.00455731\n",
        "  0.00450838  0.00446325  0.00438403  0.00427443  0.00419984  0.00411242\n",
        "  0.00399287  0.0039708   0.00392967  0.00379737  0.00370918  0.00365592\n",
        "  0.0035644   0.00352992  0.00345248  0.00341945  0.00335882  0.00331389\n",
        "  0.0032966   0.00320288  0.00313587  0.00309161  0.00307328  0.00305269\n",
        "  0.00302353  0.00298527  0.0029278   0.00290199  0.00285165  0.00284425\n",
        "  0.00281532  0.00277741  0.00272402  0.00269804  0.00267415  0.00265714\n",
        "  0.0026124   0.00259837  0.00256365  0.00254874  0.00252056  0.00249212\n",
        "  0.00247333  0.00245239  0.0024144   0.00238762  0.00237702  0.00235101\n",
        "  0.00234392  0.00229456  0.0022874   0.00226354  0.00224991  0.00224372\n",
        "  0.00219754  0.00218607  0.00217629  0.00217113  0.00214977  0.00213471\n",
        "  0.00213225  0.00209835  0.00206051  0.00204986  0.00204016  0.00202085\n",
        "  0.00201559  0.00199637  0.00198601  0.00197799  0.00194257  0.00192911\n",
        "  0.00191304  0.00190607  0.00188176  0.00187307  0.00186548  0.00185095\n",
        "  0.00183186  0.00181156  0.00179968  0.00179349  0.00177395  0.00176796\n",
        "  0.00174725  0.00174378  0.00173611  0.0017127   0.00170366  0.00168905\n",
        "  0.0016886   0.00167585  0.00166951  0.00166413  0.00164117  0.0016358\n",
        "  0.00162653  0.00161117  0.0016033   0.00158916  0.00158518  0.00158022\n",
        "  0.0015773   0.00156502  0.00156103  0.00154556  0.00153453  0.00152145\n",
        "  0.0015171   0.00149686  0.00149301  0.0014853   0.00147081  0.00146722\n",
        "  0.00145613  0.00144963  0.00144769  0.00143797  0.00143359  0.00142715\n",
        "  0.00141506  0.00141062  0.00138632  0.00138132  0.00137923  0.00136833\n",
        "  0.00135907  0.00135115  0.00134208  0.00133793  0.00133478  0.00132357\n",
        "  0.00131813  0.00131151  0.00130365  0.00129591  0.00129299  0.00128393\n",
        "  0.00127789  0.00127423  0.00127219  0.00126294  0.00125705  0.00125387\n",
        "  0.00124194  0.00123446  0.00123026  0.00122964  0.00122535  0.00121718\n",
        "  0.00120929  0.00120515  0.00120195  0.00119405  0.00119251  0.00118283\n",
        "  0.00117619  0.0011691   0.00116555  0.00116339  0.00115683  0.00115241\n",
        "  0.00114543  0.00113666  0.00113278  0.00112486  0.00111636  0.00111477\n",
        "  0.00110839  0.00110346  0.00110121  0.00109686  0.00108861  0.00108504\n",
        "  0.00108075  0.00107444  0.00106709  0.00106642  0.0010617   0.0010556\n",
        "  0.00104923  0.00104708  0.00104288  0.00104142  0.00103201  0.00102732\n",
        "  0.00102409  0.00101844  0.00101565  0.00101285  0.00100621  0.00100309\n",
        "  0.00099734  0.00099403  0.00099045  0.00098844  0.00098715  0.00098288\n",
        "  0.00097668  0.00097574  0.00097253  0.00096298  0.00096078  0.00095497\n",
        "  0.00095019  0.00095002  0.00094645  0.00094378  0.00093863  0.00093711\n",
        "  0.00093238  0.00093132  0.00092791  0.00092539  0.00091763  0.00091484\n",
        "  0.0009114   0.00090785  0.00090632  0.00090347  0.000899    0.00089652\n",
        "  0.00088808  0.00088464  0.0008821   0.00088154  0.00087666  0.00087413\n",
        "  0.00087136  0.00086536  0.00086343  0.00085998  0.00085639  0.00085521\n",
        "  0.00085056  0.00084771  0.00084277  0.00083976  0.00083466  0.00083374\n",
        "  0.00082997  0.00082628  0.00082214  0.00081669  0.00081458  0.00081317\n",
        "  0.00080983  0.00080413  0.00080366  0.0008029   0.00079783  0.0007964\n",
        "  0.00078999  0.00078893  0.00078555  0.00078277  0.00078126  0.00077721\n",
        "  0.00077491  0.00077195  0.00076925  0.00076702  0.00076493  0.00076389\n",
        "  0.00075852  0.00075759  0.00075643  0.00075273  0.00074871  0.00074404\n",
        "  0.00074299  0.00073912  0.00073807  0.00073673  0.00073394  0.0007266\n",
        "  0.00072438  0.00072123  0.00071783  0.00071621  0.00071492  0.00071174\n",
        "  0.00070715  0.00070421]\n"
       ]
      }
     ],
     "prompt_number": 13
    },
    {
     "cell_type": "code",
     "collapsed": false,
     "input": [
      "print data_features_pca.shape"
     ],
     "language": "python",
     "metadata": {},
     "outputs": [
      {
       "output_type": "stream",
       "stream": "stdout",
       "text": [
        "(6741, 320)\n"
       ]
      }
     ],
     "prompt_number": 15
    },
    {
     "cell_type": "code",
     "collapsed": false,
     "input": [
      "features = {}\n",
      "\n",
      "for i, key in enumerate(data_keys):\n",
      "    features[key] = data_features_pca[i]"
     ],
     "language": "python",
     "metadata": {},
     "outputs": [],
     "prompt_number": 16
    },
    {
     "cell_type": "code",
     "collapsed": false,
     "input": [
      "X = []\n",
      "y = []\n",
      "\n",
      "for data, label in train_list:\n",
      "    (name1, image1, name2, image2) = data\n",
      "    data_key1 = name1 + '_' + image1.zfill(4)\n",
      "    data_key2 = name2 + '_' + image2.zfill(4) \n",
      "    X.append(np.concatenate([features[data_key1], features[data_key2]]))\n",
      "    y.append(label)"
     ],
     "language": "python",
     "metadata": {},
     "outputs": [],
     "prompt_number": 17
    },
    {
     "cell_type": "code",
     "collapsed": false,
     "input": [
      "X = np.vstack(X)\n",
      "y = np.hstack(y)\n",
      "print X.shape\n",
      "print y.shape"
     ],
     "language": "python",
     "metadata": {},
     "outputs": [
      {
       "output_type": "stream",
       "stream": "stdout",
       "text": [
        "(25476, 640)\n",
        "(25476,)\n"
       ]
      }
     ],
     "prompt_number": 18
    },
    {
     "cell_type": "code",
     "collapsed": false,
     "input": [
      "log_reg = linear_model.LogisticRegression(C=1e5)\n",
      "log_reg.fit(X,y)"
     ],
     "language": "python",
     "metadata": {},
     "outputs": [
      {
       "metadata": {},
       "output_type": "pyout",
       "prompt_number": 19,
       "text": [
        "LogisticRegression(C=100000.0, class_weight=None, dual=False,\n",
        "          fit_intercept=True, intercept_scaling=1, penalty='l2',\n",
        "          random_state=None, tol=0.0001)"
       ]
      }
     ],
     "prompt_number": 19
    },
    {
     "cell_type": "code",
     "collapsed": false,
     "input": [
      "print np.sum(y == log_reg.predict(X))"
     ],
     "language": "python",
     "metadata": {},
     "outputs": [
      {
       "output_type": "stream",
       "stream": "stdout",
       "text": [
        "16445\n"
       ]
      }
     ],
     "prompt_number": 20
    },
    {
     "cell_type": "code",
     "collapsed": false,
     "input": [
      "NUM_IMAGES = 585 # NUM_IMAGES in test set\n",
      "side = int(np.sqrt(NUM_IMAGES))\n",
      "data = {}\n",
      "test_list = []\n",
      "\n",
      "with open(data_root + TEST_FILE) as test_file:\n",
      "    # for head in random.choice(list(test_file), NUM_IMAGES):  # random\n",
      "    for i in range(NUM_IMAGES):\n",
      "        head = next(test_file)\n",
      "        if len(head.split('\\t')) == 4:\n",
      "            name1, image1, name2, image2 = head.replace('\\n', '').split('\\t')\n",
      "            image1 = image1.zfill(4)\n",
      "            image2 = image2.zfill(4)\n",
      "            test_list.append(((name1, image1, name2, image2), 0))\n",
      "            data[name1 + '_' + image1] = caffe.io.load_image(data_root + 'lfw/' + name1 \n",
      "                                                             + '/' + name1 + '_' +\n",
      "                                                             image1 + '.jpg')\n",
      "            data[name2 + '_' + image2] = caffe.io.load_image(data_root + 'lfw/' + name2 \n",
      "                                                             + '/' + name2 + '_' +\n",
      "                                                             image2 + '.jpg')\n",
      "            \n",
      "        if len(head.split('\\t')) == 3:\n",
      "            name1, image1, image2 = head.replace('\\n', '').split('\\t')\n",
      "            test_list.append(((name1, image1, name1, image2), 1))\n",
      "            image1 = image1.zfill(4)\n",
      "            image2 = image2.zfill(4)\n",
      "            data[name1 + '_' + image1] = caffe.io.load_image(data_root + 'lfw/' + name1 \n",
      "                                                             + '/' + name1 + '_' +\n",
      "                                                             image1 + '.jpg')\n",
      "            data[name1 + '_' + image2] = caffe.io.load_image(data_root + 'lfw/' + name1 \n",
      "                                                             + '/' + name1 + '_' +\n",
      "                                                             image2 + '.jpg')"
     ],
     "language": "python",
     "metadata": {},
     "outputs": [],
     "prompt_number": 21
    },
    {
     "cell_type": "code",
     "collapsed": false,
     "input": [
      "def chunker(seq, size):\n",
      "    return (seq[pos:pos + size] for pos in xrange(0, len(seq), size))\n",
      "\n",
      "data_keys = data.keys()\n",
      "data_values = data.values()\n",
      "\n",
      "# Compute features in chunks of 64 and save features\n",
      "BATCH_SIZE = 64\n",
      "data_features = []\n",
      "\n",
      "for batch_values in chunker(data_values, BATCH_SIZE):\n",
      "    print \"Computing on batch of size: \", len(batch_values)\n",
      "    prediction = net.predict(batch_values, oversample=False)\n",
      "    data_features.append(net.blobs['ip1'].data[:len(batch_values)].copy())"
     ],
     "language": "python",
     "metadata": {},
     "outputs": [
      {
       "output_type": "stream",
       "stream": "stdout",
       "text": [
        "Computing on batch of size:  64\n",
        "Computing on batch of size: "
       ]
      },
      {
       "output_type": "stream",
       "stream": "stdout",
       "text": [
        " 64\n",
        "Computing on batch of size: "
       ]
      },
      {
       "output_type": "stream",
       "stream": "stdout",
       "text": [
        " 64\n",
        "Computing on batch of size: "
       ]
      },
      {
       "output_type": "stream",
       "stream": "stdout",
       "text": [
        " 64\n",
        "Computing on batch of size: "
       ]
      },
      {
       "output_type": "stream",
       "stream": "stdout",
       "text": [
        " 64\n",
        "Computing on batch of size: "
       ]
      },
      {
       "output_type": "stream",
       "stream": "stdout",
       "text": [
        " 64\n",
        "Computing on batch of size: "
       ]
      },
      {
       "output_type": "stream",
       "stream": "stdout",
       "text": [
        " 64\n",
        "Computing on batch of size: "
       ]
      },
      {
       "output_type": "stream",
       "stream": "stdout",
       "text": [
        " 64\n",
        "Computing on batch of size: "
       ]
      },
      {
       "output_type": "stream",
       "stream": "stdout",
       "text": [
        " 64\n",
        "Computing on batch of size: "
       ]
      },
      {
       "output_type": "stream",
       "stream": "stdout",
       "text": [
        " 64\n",
        "Computing on batch of size: "
       ]
      },
      {
       "output_type": "stream",
       "stream": "stdout",
       "text": [
        " 64\n",
        "Computing on batch of size: "
       ]
      },
      {
       "output_type": "stream",
       "stream": "stdout",
       "text": [
        " 61\n"
       ]
      }
     ],
     "prompt_number": 22
    },
    {
     "cell_type": "code",
     "collapsed": false,
     "input": [
      "data_features = np.vstack(data_features).squeeze()\n",
      "print data_features.shape"
     ],
     "language": "python",
     "metadata": {},
     "outputs": [
      {
       "output_type": "stream",
       "stream": "stdout",
       "text": [
        "(765, 1024)\n"
       ]
      }
     ],
     "prompt_number": 23
    },
    {
     "cell_type": "code",
     "collapsed": false,
     "input": [],
     "language": "python",
     "metadata": {},
     "outputs": []
    },
    {
     "cell_type": "code",
     "collapsed": false,
     "input": [
      "prediction = net.predict([data_values[55]], oversample=False)\n",
      "print data_features[10]\n",
      "print net.blobs['ip1'].data[:1].squeeze()\n",
      "print net.blobs['ip1'].data[:1].squeeze().shape\n",
      "plot(data_features[55])\n",
      "print np.sum(data_features[55] == net.blobs['ip1'].data[:1].squeeze())"
     ],
     "language": "python",
     "metadata": {},
     "outputs": [
      {
       "output_type": "stream",
       "stream": "stdout",
       "text": [
        "[ 0.  0.  0. ...,  0.  0.  0.]\n",
        "[ 2.74589014  0.          0.         ...,  0.          0.          0.        ]\n",
        "(1024,)\n",
        "1024"
       ]
      },
      {
       "output_type": "stream",
       "stream": "stdout",
       "text": [
        "\n"
       ]
      },
      {
       "metadata": {},
       "output_type": "display_data",
       "png": "[encoded data removed]",
       "text": [
        "<matplotlib.figure.Figure at 0x8d271d0>"
       ]
      }
     ],
     "prompt_number": 52
    },
    {
     "cell_type": "code",
     "collapsed": false,
     "input": [
      "data_features_pca = pca.transform(data_features)"
     ],
     "language": "python",
     "metadata": {},
     "outputs": [],
     "prompt_number": 45
    },
    {
     "cell_type": "code",
     "collapsed": false,
     "input": [
      "features = {}\n",
      "\n",
      "for i, key in enumerate(data_keys):\n",
      "    features[key] = data_features_pca[i]"
     ],
     "language": "python",
     "metadata": {},
     "outputs": [],
     "prompt_number": 28
    },
    {
     "cell_type": "code",
     "collapsed": false,
     "input": [
      "X = []\n",
      "y = []\n",
      "\n",
      "for data, label in test_list:\n",
      "    (name1, image1, name2, image2) = data\n",
      "    data_key1 = name1 + '_' + image1.zfill(4)\n",
      "    data_key2 = name2 + '_' + image2.zfill(4) \n",
      "    X.append(np.concatenate([features[data_key1], features[data_key2]]))\n",
      "    y.append(label)"
     ],
     "language": "python",
     "metadata": {},
     "outputs": [],
     "prompt_number": 30
    },
    {
     "cell_type": "code",
     "collapsed": false,
     "input": [
      "X = np.vstack(X)\n",
      "y = np.hstack(y)\n",
      "print X.shape\n",
      "print y.shape"
     ],
     "language": "python",
     "metadata": {},
     "outputs": [
      {
       "output_type": "stream",
       "stream": "stdout",
       "text": [
        "(584, 640)\n",
        "(584,)\n"
       ]
      }
     ],
     "prompt_number": 31
    },
    {
     "cell_type": "code",
     "collapsed": false,
     "input": [
      "print log_reg.score(X, y)"
     ],
     "language": "python",
     "metadata": {},
     "outputs": [
      {
       "output_type": "stream",
       "stream": "stdout",
       "text": [
        "0.493150684932\n"
       ]
      }
     ],
     "prompt_number": 34
    },
    {
     "cell_type": "code",
     "collapsed": false,
     "input": [],
     "language": "python",
     "metadata": {},
     "outputs": []
    }
   ],
   "metadata": {}
  }
 ]
}